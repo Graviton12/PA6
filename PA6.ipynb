{
 "cells": [
  {
   "cell_type": "markdown",
   "id": "9b2e0a69",
   "metadata": {},
   "source": [
    "## Assignment 6: Writing Functions, Samia Mahmood, Version 1, Spring 2023 "
   ]
  },
  {
   "cell_type": "markdown",
   "id": "214de30a",
   "metadata": {},
   "source": [
    "#### a. Write a Python program will calculate the area and perimeter of a triangle using two different functions named calcArea() and calcPerimeter(). Your program should prompt the user for the length of three sides of the triangle. Each function should take the lengths of the sides as arguments and return the output of their respective calculations. As an added feature, set the default values of your parameters to 1 so if you call either function without parameters, it will still produce output"
   ]
  },
  {
   "cell_type": "code",
   "execution_count": 1,
   "id": "cc786c27",
   "metadata": {},
   "outputs": [
    {
     "name": "stdout",
     "output_type": "stream",
     "text": [
      "Enter the value of A: 5\n",
      "Enter the value of B: 5\n",
      "Enter the value of C: 5\n",
      "The area of the triangle is approximately 10.825317547305483 sqaure miles\n",
      "The perimeter of the triangle is 15 linear units\n"
     ]
    }
   ],
   "source": [
    "import math\n",
    "a=int(input(\"Enter the value of A: \"))\n",
    "b=int(input(\"Enter the value of B: \"))\n",
    "c=int(input(\"Enter the value of C: \"))\n",
    "\n",
    "s=(a+b+c)/2\n",
    "\n",
    "def calcArea(a,b,c):\n",
    "    return math.sqrt(s*(s-a)*(s-b)*(s-c))\n",
    "\n",
    "def calcPerimeter(a,b,c):\n",
    "    return a+b+c\n",
    "\n",
    "print(\"The area of the triangle is approximately {} sqaure miles\".format(calcArea(a,b,c)))\n",
    "print(\"The perimeter of the triangle is {} linear units\".format(calcPerimeter(a,b,c)))"
   ]
  },
  {
   "cell_type": "markdown",
   "id": "44ecb7e8",
   "metadata": {},
   "source": [
    "#### b. Write a Python program to play “Guess the Number”. Your program should generate a random number between 1 and 1000 and then prompt the user for a guess. Possible responses to the guess should be ‘Too high! Guess again’, ‘Too low! Guess again’, and ‘Correct!’. The program should continue to prompt for input from the user until they supply the correct answer. The part of the program that evaluates the user’s guess should be in a function named evaluateGuess() that takes the guess and the randomly generated number as parameters. \n"
   ]
  },
  {
   "cell_type": "code",
   "execution_count": 6,
   "id": "cc4f90de",
   "metadata": {},
   "outputs": [
    {
     "name": "stdout",
     "output_type": "stream",
     "text": [
      "Enter your guess between 1 to 1000: 300\n",
      "Too high! Guess again\n",
      "Enter your guess between 1 to 1000: 200\n",
      "Too high! Guess again\n",
      "Enter your guess between 1 to 1000: 100\n",
      "Too high! Guess again\n",
      "Enter your guess between 1 to 1000: 80\n",
      "Too low! Guess again\n",
      "Enter your guess between 1 to 1000: 90\n",
      "Too low! Guess again\n",
      "Enter your guess between 1 to 1000: 99\n",
      "Correct!\n"
     ]
    }
   ],
   "source": [
    "import random\n",
    "\n",
    "def evaluateFunction():\n",
    "    random_number=random.randint(1,1000)\n",
    "    entered_number=None\n",
    "    \n",
    "    while True:\n",
    "        entered_number=int(input(\"Enter your guess between 1 to 1000: \"))\n",
    "        if entered_number == random_number:\n",
    "            print(\"Correct!\")\n",
    "            break\n",
    "        elif entered_number>random_number:\n",
    "            print(\"Too high! Guess again\")\n",
    "        else:\n",
    "            print(\"Too low! Guess again\")\n",
    "evaluateFunction()"
   ]
  },
  {
   "cell_type": "markdown",
   "id": "d2eec4e2",
   "metadata": {},
   "source": [
    "#### c. Write a Python program to calculate the mean temperature over a set of Fahrenheit temperature values. Your program should calculate the mean in a function called meanTemp()and then print message that indicates the number of days your mean represents and the mean (see below). Your function should be flexible so that you can pass any number of temperatures to it. You do not need to get input from the user; simply include the temperatures in the function parameter list."
   ]
  },
  {
   "cell_type": "code",
   "execution_count": 11,
   "id": "f5fcdcec",
   "metadata": {},
   "outputs": [
    {
     "name": "stdout",
     "output_type": "stream",
     "text": [
      "The mean temperature for the past 4 days is 67.5\n"
     ]
    }
   ],
   "source": [
    "def meanTemp(*args):\n",
    "    mean = sum(args)/len(args)\n",
    "    return print(f\"The mean temperature for the past {len(args)} days is {mean}\")\n",
    "meanTemp(26,76,90,78)"
   ]
  },
  {
   "cell_type": "code",
   "execution_count": null,
   "id": "7921e102",
   "metadata": {},
   "outputs": [],
   "source": []
  }
 ],
 "metadata": {
  "kernelspec": {
   "display_name": "Python 3 (ipykernel)",
   "language": "python",
   "name": "python3"
  },
  "language_info": {
   "codemirror_mode": {
    "name": "ipython",
    "version": 3
   },
   "file_extension": ".py",
   "mimetype": "text/x-python",
   "name": "python",
   "nbconvert_exporter": "python",
   "pygments_lexer": "ipython3",
   "version": "3.9.13"
  }
 },
 "nbformat": 4,
 "nbformat_minor": 5
}
